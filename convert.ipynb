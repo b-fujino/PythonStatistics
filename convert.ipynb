{
 "cells": [
  {
   "cell_type": "code",
   "execution_count": 26,
   "metadata": {},
   "outputs": [
    {
     "name": "stdout",
     "output_type": "stream",
     "text": [
      "[NbConvertApp] Converting notebook 01_Introduction.ipynb to html\n",
      "[NbConvertApp] Writing 277780 bytes to 01_Introduction.html\n"
     ]
    }
   ],
   "source": [
    "!jupyter nbconvert --to html --execute 01_Introduction.ipynb --template-file mytemplate.tpl"
   ]
  },
  {
   "cell_type": "markdown",
   "metadata": {},
   "source": [
    "なるほど．わかった．\n",
    "まずインラインコードにすると，&ampがうまくエスケープされない問題が出てくる．\n",
    "また｜は基本的にセルの切り分けもじなので，それ演算子として｜を描いた場合に，\n",
    "マークダウンの表のセルの数が合わなくなり表として認識できなくなる\n",
    "なので，まずインラインコードは外す．その上で｜には\\をつける"
   ]
  }
 ],
 "metadata": {
  "kernelspec": {
   "display_name": ".venv",
   "language": "python",
   "name": "python3"
  },
  "language_info": {
   "codemirror_mode": {
    "name": "ipython",
    "version": 3
   },
   "file_extension": ".py",
   "mimetype": "text/x-python",
   "name": "python",
   "nbconvert_exporter": "python",
   "pygments_lexer": "ipython3",
   "version": "3.11.5"
  }
 },
 "nbformat": 4,
 "nbformat_minor": 2
}

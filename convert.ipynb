{
 "cells": [
  {
   "cell_type": "code",
   "execution_count": 22,
   "metadata": {},
   "outputs": [
    {
     "name": "stdout",
     "output_type": "stream",
     "text": [
      "[NbConvertApp] Converting notebook 01_Introduction.ipynb to html\n",
      "[NbConvertApp] Writing 287075 bytes to 01_Introduction.html\n"
     ]
    }
   ],
   "source": [
    "!jupyter nbconvert --to html --execute 01_Introduction.ipynb --template-file mytemplate.tpl"
   ]
  },
  {
   "cell_type": "markdown",
   "metadata": {},
   "source": [
    "マークダウンにしてpandocで変換かけるとうまくいくが，これはこれでCSSを全部自分で設計しないといけないのはめんどい．"
   ]
  },
  {
   "cell_type": "code",
   "execution_count": 13,
   "metadata": {},
   "outputs": [
    {
     "name": "stdout",
     "output_type": "stream",
     "text": [
      "[NbConvertApp] Converting notebook 01_Introduction.ipynb to markdown\n",
      "[NbConvertApp] Writing 4023 bytes to 01_Introduction.md\n"
     ]
    }
   ],
   "source": [
    "!jupyter nbconvert --to markdown --execute 01_Introduction.ipynb\n",
    "!pandoc -s -f markdown -t html -o 01_Introduction.html 01_Introduction.md --css=mystyle.css\n"
   ]
  },
  {
   "cell_type": "code",
   "execution_count": null,
   "metadata": {},
   "outputs": [],
   "source": []
  }
 ],
 "metadata": {
  "kernelspec": {
   "display_name": ".venv",
   "language": "python",
   "name": "python3"
  },
  "language_info": {
   "codemirror_mode": {
    "name": "ipython",
    "version": 3
   },
   "file_extension": ".py",
   "mimetype": "text/x-python",
   "name": "python",
   "nbconvert_exporter": "python",
   "pygments_lexer": "ipython3",
   "version": "3.11.5"
  }
 },
 "nbformat": 4,
 "nbformat_minor": 2
}

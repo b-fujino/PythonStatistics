{
 "cells": [
  {
   "cell_type": "markdown",
   "metadata": {},
   "source": [
    "%title: \"ドキュメントのタイトル\"\n",
    "%author: \"山田 太郎\"\n",
    "%date: \"2023-02-24\"\n",
    "%description: \"説明やサマリーを入れることも\"\n",
    "\n",
    "本資料ではPythoでの統計分析の方法について説明していく．\n",
    "\n",
    "# Python実行環境の整備\n",
    "\n",
    "## Google Colaboratoryへのサインインとノートブック作成\n",
    "\n",
    "Pythonの開発・実行環境を最も手軽に手に入れられるのはGoogle Colaboratory（Google Colab）であろう．そこで，本資料ではGoogle Colabを用いていくことを前提とする．\n",
    "\n",
    "まずは以下のリンクを開いてほしい．\n",
    "[Google Colab](https://colab.research.google.com)\n",
    "\n",
    "すると次のような画面が表示される．\n",
    "\n",
    "![Google Colabトップ](./src/01/GoogleColab.jpg)\n",
    "\n",
    "この右上にある「ログイン」（もしくはサインイン）をクリックし，各自のGoogleアカウントでログインをする．\n",
    "\n",
    "すると次のような画面となる．\n",
    "\n",
    "![ログイン後のトップ画面](./src/01/Colab_Login.jpg)\n",
    "\n",
    "この画面の下の方にある「ノートブックを新規作成」をクリックすると，以下のように新しいノートブックが立ち上がり，pythonを実行できる環境が整う．\n",
    "\n",
    "![作成したノートブックの画面](./src/01/Blanknotebook.png)\n",
    "\n",
    "## とりあえず実行\n",
    "\n",
    "まずは極簡単なpythonプログラムを入力・実行させてみよう．\n",
    "画面には，次のような部分が表示されている（この部分を**コードセル**と呼ぶ）ので，この部分に次のコードを入力してみてほしい．\n",
    "\n",
    "![コードセル](./src/01/CodeInputBox.png)"
   ]
  },
  {
   "cell_type": "code",
   "execution_count": null,
   "metadata": {},
   "outputs": [],
   "source": [
    "print(\"hello world\")"
   ]
  },
  {
   "cell_type": "markdown",
   "metadata": {},
   "source": [
    "これは至って単純な命令で，「画面に”hello world”を表示せよ」という命令である．\n",
    "\n",
    "入力が済んだら，Ctrlキーを押しながらEnterキーを押すか，マウスで行の左側にある再生マーク（▶︎）をクリックする．\n",
    "すると，上記のコードが実行され，次のような表記が現れる．\n",
    "(初めて実行するときには，pythonの初期設定等を内部で行うため，やや時間がかかるが，１度実行すればその後はこのような時間がかかることはない．)"
   ]
  },
  {
   "cell_type": "code",
   "execution_count": 1,
   "metadata": {},
   "outputs": [
    {
     "name": "stdout",
     "output_type": "stream",
     "text": [
      "hello world\n"
     ]
    }
   ],
   "source": [
    "print(\"hello world\")"
   ]
  },
  {
   "cell_type": "markdown",
   "metadata": {},
   "source": [
    "極めて簡単な例であるが，pythonのプログラムが実行され，その結果が返ってきた，ということである．\n",
    "\n",
    "## 基本的な計算の実行\n",
    "\n",
    "では今度は簡単な計算を実行させてみよう．\n",
    "print()の中に数式を書き入れて，セルをCtrl+Enterもしくは▶︎で実行してみる．"
   ]
  },
  {
   "cell_type": "code",
   "execution_count": 10,
   "metadata": {},
   "outputs": [
    {
     "name": "stdout",
     "output_type": "stream",
     "text": [
      "6\n",
      "-2\n",
      "24\n",
      "3.0\n"
     ]
    }
   ],
   "source": [
    "print(5+1)\n",
    "print(5-7)\n",
    "print(6*4)\n",
    "print(9/3)"
   ]
  },
  {
   "cell_type": "markdown",
   "metadata": {},
   "source": [
    "上記のように，各行の計算が実行され，その結果が画面に出力させる．\n",
    "\n",
    "カッコを使ったり，累乗計算をさせたり，剰余演算をさせたりもできる．"
   ]
  },
  {
   "cell_type": "code",
   "execution_count": 11,
   "metadata": {},
   "outputs": [
    {
     "name": "stdout",
     "output_type": "stream",
     "text": [
      "18\n",
      "15.5\n",
      "8\n",
      "3\n",
      "1\n"
     ]
    }
   ],
   "source": [
    "# カッコ付き\n",
    "print((5+1)*3)\n",
    "\n",
    "# 複数のカッコを使った計算\n",
    "print(((5+1)*4+3)/2+(3-1))\n",
    "\n",
    "# 累乗 (pythonでは*を2つ重ねると累乗の演算式となる．)\n",
    "print(2**3)\n",
    "\n",
    "# 割り算の商だけを取得\n",
    "print(10//3)\n",
    "\n",
    "# 割り算の余りだけを取得\n",
    "print(10%3)"
   ]
  },
  {
   "cell_type": "markdown",
   "metadata": {},
   "source": [
    "このように，`+`，`-`，`*`，`/`，`()`，`**`，`%%`などの演算記号のことを**演算子(Operator)**呼ぶ．演算子にはこれら以外にもいろいろある．以下にpythonで使われる代表的な演算子を示す．\n"
   ]
  },
  {
   "cell_type": "markdown",
   "metadata": {},
   "source": [
    "| 演算子 | 説明                       | 例             |\n",
    "|--------|----------------------------|----------------|\n",
    "| \\+     | 加算                       | `x + y`        |\n",
    "| \\-     | 減算                       | `x - y`        |\n",
    "| \\*     | 乗算                       | `x * y`        |\n",
    "| /      | 除算                       | `x / y`        |\n",
    "| \\**    | 累乗                       | `x ** y`       |\n",
    "| %      | 剰余                       | `x % y`        |\n",
    "| //     | 整数除算                   | `x // y`       |\n",
    "| ==     | 等しい                     | `x == y`       |\n",
    "| !=     | 等しくない                 | `x != y`       |\n",
    "| \\<     | より小さい                 | `x < y`        |\n",
    "| \\>     | より大きい                 | `x > y`        |\n",
    "| \\<=    | 以下                       | `x <= y`       |\n",
    "| \\>=    | 以上                       | `x >= y`       |\n",
    "| &      | 論理積 (AND)               | `x & y`        |\n",
    "| \\|     | 論理和 (OR)                | `x | y`        |\n",
    "| !      | 否定 (NOT)                 | `!x`           |\n",
    "| =      | 代入                       | `x = 10`       |"
   ]
  },
  {
   "cell_type": "markdown",
   "metadata": {},
   "source": [
    "## モジュールと関数の利用\n",
    "\n",
    "上記のような単純な演算はそのまま数式を入力することで実行できるが，より高度な処理をさせる際には**関数**と呼ばれるものを用いる（すでに使ってきたprint()も関数である）．\n",
    "\n",
    "関数の多くはpython本体とは別にモジュールと呼ばれるものの中で作られているため，そうした関数を実行するためにはモジュールを読み込む命令を書き込んでおく必要がある．\n",
    "\n",
    "実際に，より高度な処理として平方根を算出してみよう．\n",
    "次の例は121の平方根を求めて画面に表示させている．"
   ]
  },
  {
   "cell_type": "code",
   "execution_count": 30,
   "metadata": {},
   "outputs": [
    {
     "name": "stdout",
     "output_type": "stream",
     "text": [
      "11.0\n"
     ]
    }
   ],
   "source": [
    "import math\n",
    "print(math.sqrt(121))"
   ]
  },
  {
   "cell_type": "markdown",
   "metadata": {},
   "source": [
    "1行目の`import math`がモジュールを読み込んでいる命令である．これによりmathモジュールが現在のノートブックに読み込まれる．\n",
    "\n",
    "続いて，math.sqrt()が与えた数の平方根を求める関数である．`math`と`.`と`sqrt()`という3つの部分で構成されており，`math`が読み込んだモジュール名，`sqrt()`が関数となっている．\n",
    "\n",
    "このようにpythonでは「モジュール名+`.`＋関数」と記述することで各モジュールが提供している関数を利用することができる．\n",
    "\n",
    "例えば，絶対値を求めるときには`fabs()`という関数を使う．"
   ]
  },
  {
   "cell_type": "code",
   "execution_count": 31,
   "metadata": {},
   "outputs": [
    {
     "name": "stdout",
     "output_type": "stream",
     "text": [
      "10.63\n"
     ]
    }
   ],
   "source": [
    "print(math.fabs(-10.63))"
   ]
  },
  {
   "cell_type": "markdown",
   "metadata": {},
   "source": [
    "なお，mathモジュールはすでに一度このノートブック上で読み込んでいるので改めて読み込む必要はない．\n",
    "\n",
    "<div class=\"work\">\n",
    "次の計算を行いなさい．\n",
    "\n",
    "- 25 * 3 + 4 / 2\n",
    "- 11^3\n",
    "- 100 %% 7\n",
    "- 2 * (3 + 4) - 5\n",
    "- 2^3 * 3^2\n",
    "- ((2 + 3) * (4 + 5)) / 6\n",
    "- 3+4*5-6/3\n",
    "- 453 %/% 10\n",
    "- 453 %% 10\n",
    "- 256の正の平方根\n",
    "\n",
    "</div>"
   ]
  },
  {
   "cell_type": "code",
   "execution_count": 65,
   "metadata": {},
   "outputs": [
    {
     "name": "stderr",
     "output_type": "stream",
     "text": [
      "45198.17s - pydevd: Sending message related to process being replaced timed-out after 5 seconds\n"
     ]
    },
    {
     "name": "stdout",
     "output_type": "stream",
     "text": [
      "[NbConvertApp] Converting notebook 01_Introduction.ipynb to html\n",
      "[NbConvertApp] Writing 286540 bytes to 01_Introduction.html\n"
     ]
    }
   ],
   "source": [
    "!jupyter nbconvert --to html 01_Introduction.ipynb --template classic"
   ]
  },
  {
   "cell_type": "code",
   "execution_count": 66,
   "metadata": {},
   "outputs": [
    {
     "name": "stderr",
     "output_type": "stream",
     "text": [
      "45301.69s - pydevd: Sending message related to process being replaced timed-out after 5 seconds\n"
     ]
    },
    {
     "name": "stdout",
     "output_type": "stream",
     "text": [
      "[NbConvertApp] Converting notebook 01_Introduction.ipynb to html\n",
      "[NbConvertApp] Writing 291720 bytes to 01_Introduction.html\n"
     ]
    }
   ],
   "source": [
    "!jupyter nbconvert --to html 01_Introduction.ipynb --template-file mytemplate.tpl"
   ]
  }
 ],
 "metadata": {
  "kernelspec": {
   "display_name": ".venv",
   "language": "python",
   "name": "python3"
  },
  "language_info": {
   "codemirror_mode": {
    "name": "ipython",
    "version": 3
   },
   "file_extension": ".py",
   "mimetype": "text/x-python",
   "name": "python",
   "nbconvert_exporter": "python",
   "pygments_lexer": "ipython3",
   "version": "3.11.5"
  }
 },
 "nbformat": 4,
 "nbformat_minor": 2
}

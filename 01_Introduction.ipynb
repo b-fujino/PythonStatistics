{
 "cells": [
  {
   "cell_type": "markdown",
   "metadata": {
    "tags": [
     "title"
    ]
   },
   "source": [
    "% Python実行環境の整備と基本的な計算\n",
    "%% 2025-02-25\n",
    "%% 藤野　秀則\n"
   ]
  },
  {
   "cell_type": "code",
   "execution_count": null,
   "metadata": {},
   "outputs": [],
   "source": []
  },
  {
   "cell_type": "markdown",
   "metadata": {},
   "source": [
    "\n",
    "## Google Colaboratoryへのサインインとノートブック作成\n",
    "\n",
    "Pythonの開発・実行環境を最も手軽に手に入れられるのはGoogle Colaboratory（Google Colab）であろう．そこで，本資料ではGoogle Colabを用いていくことを前提とする．\n",
    "\n",
    "まずは以下のリンクを開いてほしい．\n",
    "[Google Colab](https://colab.research.google.com)\n",
    "\n",
    "すると次のような画面が表示される．\n",
    "\n",
    "![Google Colabトップ](./src/01/GoogleColab.jpg)\n",
    "\n",
    "この右上にある「ログイン」（もしくはサインイン）をクリックし，各自のGoogleアカウントでログインをする．\n",
    "\n",
    "すると次のような画面となる．\n",
    "\n",
    "![ログイン後のトップ画面](./src/01/Colab_Login.jpg)\n",
    "\n",
    "この画面の下の方にある「ノートブックを新規作成」をクリックすると，以下のように新しいノートブックが立ち上がり，pythonを実行できる環境が整う．\n",
    "\n",
    "![作成したノートブックの画面](./src/01/Blanknotebook.png)\n",
    "\n",
    "## とりあえず実行\n",
    "\n",
    "まずは極簡単なpythonプログラムを入力・実行させてみよう．\n",
    "画面には，次のような部分が表示されている（この部分を**コードセル**と呼ぶ）ので，この部分に次のコードを入力してみてほしい．\n",
    "\n",
    "![コードセル](./src/01/CodeInputBox.png)"
   ]
  },
  {
   "cell_type": "code",
   "execution_count": 74,
   "metadata": {},
   "outputs": [
    {
     "name": "stdout",
     "output_type": "stream",
     "text": [
      "hello world\n"
     ]
    }
   ],
   "source": [
    "print(\"hello world\")"
   ]
  },
  {
   "cell_type": "markdown",
   "metadata": {},
   "source": [
    "これは至って単純な命令で，「画面に”hello world”を表示せよ」という命令である．\n",
    "\n",
    "入力が済んだら，Ctrlキーを押しながらEnterキーを押すか，マウスで行の左側にある再生マーク（▶︎）をクリックする．\n",
    "すると，上記のコードが実行され，次のような表記が現れる．\n",
    "(初めて実行するときには，pythonの初期設定等を内部で行うため，やや時間がかかるが，１度実行すればその後はこのような時間がかかることはない．)"
   ]
  },
  {
   "cell_type": "code",
   "execution_count": 75,
   "metadata": {},
   "outputs": [
    {
     "name": "stdout",
     "output_type": "stream",
     "text": [
      "hello world\n"
     ]
    }
   ],
   "source": [
    "print(\"hello world\")"
   ]
  },
  {
   "cell_type": "markdown",
   "metadata": {},
   "source": [
    "極めて簡単な例であるが，pythonのプログラムが実行され，その結果が返ってきた，ということである．"
   ]
  },
  {
   "cell_type": "markdown",
   "metadata": {},
   "source": [
    "## ノートブックの構成\n",
    "\n",
    "今，Pythonのソースコードを入力した部分はコードセルと呼ばれる部分であり，"
   ]
  },
  {
   "cell_type": "markdown",
   "metadata": {},
   "source": [
    "\n",
    "## 基本的な計算の実行\n",
    "\n",
    "では今度は簡単な計算を実行させてみよう．\n",
    "print()の中に数式を書き入れて，セルをCtrl+Enterもしくは▶︎で実行してみる．"
   ]
  },
  {
   "cell_type": "code",
   "execution_count": 76,
   "metadata": {},
   "outputs": [
    {
     "name": "stdout",
     "output_type": "stream",
     "text": [
      "6\n",
      "-2\n",
      "24\n",
      "3.0\n"
     ]
    }
   ],
   "source": [
    "print(5+1)\n",
    "print(5-7)\n",
    "print(6*4)\n",
    "print(9/3)"
   ]
  },
  {
   "cell_type": "markdown",
   "metadata": {},
   "source": [
    "上記のように，各行の計算が実行され，その結果が画面に出力させる．\n",
    "\n",
    "カッコを使ったり，累乗計算をさせたり，剰余演算をさせたりもできる．"
   ]
  },
  {
   "cell_type": "code",
   "execution_count": 77,
   "metadata": {},
   "outputs": [
    {
     "name": "stdout",
     "output_type": "stream",
     "text": [
      "18\n",
      "15.5\n",
      "8\n",
      "3\n",
      "1\n"
     ]
    }
   ],
   "source": [
    "# カッコ付き\n",
    "print((5+1)*3)\n",
    "\n",
    "# 複数のカッコを使った計算\n",
    "print(((5+1)*4+3)/2+(3-1))\n",
    "\n",
    "# 累乗 (pythonでは*を2つ重ねると累乗の演算式となる．)\n",
    "print(2**3)\n",
    "\n",
    "# 割り算の商だけを取得\n",
    "print(10//3)\n",
    "\n",
    "# 割り算の余りだけを取得\n",
    "print(10%3)"
   ]
  },
  {
   "cell_type": "markdown",
   "metadata": {},
   "source": [
    "このように，`+`，`-`，`*`，`/`，`()`，`**`，`%%`などの演算記号のことを**演算子(Operator)**呼ぶ．演算子にはこれら以外にもいろいろある．以下にpythonで使われる代表的な演算子を示す．"
   ]
  },
  {
   "cell_type": "markdown",
   "metadata": {},
   "source": []
  },
  {
   "cell_type": "markdown",
   "metadata": {},
   "source": [
    "<div style=\"display: flex; justify-content: space-between;\">\n",
    "\n",
    "| 算術演算子 | 説明                       |\n",
    "|:--------|:----------------------------|\n",
    "| x + y  | 加算                       |\n",
    "| x - y  | 減算                       |\n",
    "| x * y  | 乗算                       |\n",
    "| x / y  | 除算                       |\n",
    "| x ** y | 累乗                       |\n",
    "| x % y  | 剰余                       |\n",
    "| x // y | 整数除算                   |\n",
    "| x = y  | 代入                       |\n",
    "| x += y | 加算代入                   |\n",
    "| x -= y | 減算代入                   |\n",
    "| x *= y | 乗算代入                   |\n",
    "| x /= y | 除算代入                   |\n",
    "| x //= y| 整数除算代入               |\n",
    "| x %= y | 剰余代入                   |\n",
    "| x **= y| 累乗代入                   |\n",
    "\n",
    "| 比較演算子 | 説明                       |\n",
    "|:--------|:----------------------------|\n",
    "| x == y | 等しい                     |\n",
    "| x != y | 等しくない                 |\n",
    "| x \\< y  | より小さい                 |\n",
    "| x \\> y  | より大きい                 |\n",
    "| x \\<= y | 以下                       |\n",
    "| x \\>= y | 以上                       |\n",
    "| x \\& y  | 論理積 (AND)               |\n",
    "| x \\| y  | 論理和 (OR)                |\n",
    "| not x  | 否定 (NOT)                 |\n",
    "| x is y | 同一オブジェクトかどうか   |\n",
    "| x is not y | 同一オブジェクトでないか|\n",
    "| x in y | 要素が含まれるか           |\n",
    "| x not in y | 要素が含まれないか      |\n",
    "\n",
    "</div>"
   ]
  },
  {
   "cell_type": "markdown",
   "metadata": {},
   "source": [
    "## モジュールと関数の利用\n",
    "\n",
    "上記のような単純な演算はそのまま数式を入力することで実行できるが，より高度な処理をさせる際には**関数**と呼ばれるものを用いる（すでに使ってきたprint()も関数である）．\n",
    "\n",
    "関数の多くはpython本体とは別にモジュールと呼ばれるものの中で作られているため，そうした関数を実行するためにはモジュールを読み込む命令を書き込んでおく必要がある．\n",
    "\n",
    "実際に，より高度な処理として平方根を算出してみよう．\n",
    "次の例は121の平方根を求めて画面に表示させている．"
   ]
  },
  {
   "cell_type": "code",
   "execution_count": 78,
   "metadata": {},
   "outputs": [
    {
     "name": "stdout",
     "output_type": "stream",
     "text": [
      "11.0\n"
     ]
    }
   ],
   "source": [
    "import math\n",
    "print(math.sqrt(121))"
   ]
  },
  {
   "cell_type": "markdown",
   "metadata": {},
   "source": [
    "1行目の`import math`がモジュールを読み込んでいる命令である．これによりmathモジュールが現在のノートブックに読み込まれる．\n",
    "\n",
    "続いて，math.sqrt()が与えた数の平方根を求める関数である．`math`と`.`と`sqrt()`という3つの部分で構成されており，`math`が読み込んだモジュール名，`sqrt()`が関数となっている．\n",
    "\n",
    "このようにpythonでは「モジュール名+`.`＋関数」と記述することで各モジュールが提供している関数を利用することができる．\n",
    "\n",
    "例えば，絶対値を求めるときには`fabs()`という関数を使う．なお，mathモジュールはすでに一度このノートブック上で読み込んでいるので改めて読み込む必要はない．\n"
   ]
  },
  {
   "cell_type": "code",
   "execution_count": 79,
   "metadata": {},
   "outputs": [
    {
     "name": "stdout",
     "output_type": "stream",
     "text": [
      "10.63\n"
     ]
    }
   ],
   "source": [
    "print(math.fabs(-10.63))"
   ]
  },
  {
   "cell_type": "markdown",
   "metadata": {},
   "source": [
    "\n",
    "<div class=\"work\">\n",
    "次の計算を行いなさい．\n",
    "\n",
    "- 25 * 3 + 4 / 2\n",
    "- 11^3\n",
    "- 100 %% 7\n",
    "- 2 * (3 + 4) - 5\n",
    "- 2^3 * 3^2\n",
    "- ((2 + 3) * (4 + 5)) / 6\n",
    "- 3+4*5-6/3\n",
    "- 453 %/% 10\n",
    "- 453 %% 10\n",
    "- 256の正の平方根\n",
    "\n",
    "</div>"
   ]
  }
 ],
 "metadata": {
  "kernelspec": {
   "display_name": ".venv",
   "language": "python",
   "name": "python3"
  },
  "language_info": {
   "codemirror_mode": {
    "name": "ipython",
    "version": 3
   },
   "file_extension": ".py",
   "mimetype": "text/x-python",
   "name": "python",
   "nbconvert_exporter": "python",
   "pygments_lexer": "ipython3",
   "version": "3.11.5"
  }
 },
 "nbformat": 4,
 "nbformat_minor": 2
}
